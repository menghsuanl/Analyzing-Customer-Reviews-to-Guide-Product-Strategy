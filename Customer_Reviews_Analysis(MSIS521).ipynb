{
  "nbformat": 4,
  "nbformat_minor": 0,
  "metadata": {
    "colab": {
      "provenance": []
    },
    "kernelspec": {
      "name": "python3",
      "display_name": "Python 3"
    },
    "language_info": {
      "name": "python"
    }
  },
  "cells": [
    {
      "cell_type": "markdown",
      "source": [
        "# USING CUSTOMER REVIEWS TO GUIDE PRODUCT DEVELOPMENT STRATEGY\n",
        "Panasonic is in electronics manufacturing business. Panasonic's division than makes LCD TV's is under pressure from the CEO to increase sales. The Chief Marketing Officer and the Chief Operations Officer of the company are strictly against changing the price of the TV's as they believe that on average Panasonic sells its TV's cheaper than its competitors which include Samsung, Sony, Toshiba, Vizio, LG and Philips. After brainstorming with his team, the TV division head Hiro Ito is determined that the only way forward is to improve the product quality. However, given the economic downturn the funds available for investing in R&D are quite limited. And the cost of improvement of any feature is exponentially increasing in the extent to which the feature is improved. Further, there are differences of opinion among his team regarding which aspect of their product they should improve.\n",
        "After intensive discussion amongst themselves, they feel that they should try to gauge how they consumers thought of them in comparison to their competitors. They approached the new UGC sub‐ division within the marketing division. The UGC division was set up to capture what their customers were saying about them on the web. While this division was collecting a lot of data generated regarding Panasonic by its customers, UGC division head Yuji Hukiri was struggling with a way to show the business value of his division. This opportunity arrived at the right time for him and he was quite happy to help Hiro's team in the endeavor. They quickly decided that they would focus only on product reviews and collect data not only themselves but also on their competitors.\n",
        "\n",
        "Yuji’s team quickly created an exhaustive list of all websites which provided customer generated product reviews including Amazon, Epinions, etc. They also decided to collect review information from experts (e.g., consumer report, etc.) regarding their and competitor's products. Using text mining and sentiment analysis tools they identified six features which the consumers talked the most about in their reviews: Video quality, Sound quality, Appearance, Number of Features, Ease of set up, and Life span. Yuji's team converted the text data regarding features into a numeric data on a scale of 0‐5, where 0 meant lowest satisfaction and 5 meant highest satisfaction for consumers. For example, if Panasonic got a rating of 4 and LG got a rating of 3 on video quality it would mean that on average customers are more satisfied regarding video quality of Panasonic than LG. Hiro's team was excited at getting this data but now they faced the issue of how to analyze this data. One of the team members suggests to focus on that feature of the product where they lag their competitors according to their consumers. She argues that this is how they have done in the past. However, Hiro is not fully convinced with this approach. He believes the data the UGC division provided is much richer and he may be able to get information on not only how they are rated in comparison to their competitors on various features but also on what features the consumers value the most. Hiro's team has approached you to analyze the data collected by the UGC division and help them in devising the appropriate strategy forward.\n",
        "\n",
        "They want you to figure out where they stand in each feature (each user rating category) relative to their competitors, and if investing in the feature where users rate them lower than their competitors is the best strategy. If not, what would you recommend? They want to get a ranking for features in term of where they should consider investing first. Assume that the cost of improving the feature is same across all features. For example, the cost of improving the video quality so that the customer rating for video\n",
        "1\n",
        "quality goes from 4 to 5 is the same as that for improving the sound quality so that the rating for sound quality goes from 4 to 5."
      ],
      "metadata": {
        "id": "wq4IQJyGV2iv"
      }
    },
    {
      "cell_type": "code",
      "source": [
        "import pandas as pd\n",
        "import numpy as np\n",
        "import io\n",
        "\n",
        "from google.colab import files\n",
        "uploaded = files.upload()\n",
        "df = pd.read_csv(io.BytesIO(uploaded['TA2.csv']))"
      ],
      "metadata": {
        "id": "w3LmRtjWWGcV"
      },
      "execution_count": null,
      "outputs": []
    },
    {
      "cell_type": "code",
      "source": [
        "import matplotlib.pyplot as plt\n",
        "import seaborn as sns"
      ],
      "metadata": {
        "id": "YqLGsjlSagRO"
      },
      "execution_count": 2,
      "outputs": []
    },
    {
      "cell_type": "code",
      "source": [
        "df.columns"
      ],
      "metadata": {
        "colab": {
          "base_uri": "https://localhost:8080/"
        },
        "id": "geDSt-aSYuMb",
        "outputId": "0a86b647-8a53-4663-d46d-2b79870414d4"
      },
      "execution_count": null,
      "outputs": [
        {
          "output_type": "execute_result",
          "data": {
            "text/plain": [
              "Index(['Manufacturer', 'Screen Size', 'Motion Rate', 'Pixel', 'Overall Rating',\n",
              "       'Video Quality', 'Sound quality', 'Appearance', 'Number of Features',\n",
              "       'Ease of Set up', 'Life Span', 'Expert Overall Rating', 'size=26\"',\n",
              "       'size=32\"', 'size=36\"', 'size=40\"', 'size=42\"', 'size=46\"', 'size=49\"',\n",
              "       'size=52\"', 'size=55\"', 'size=60\"', 'motionrate=120', 'motionrate=240',\n",
              "       'motionrate=600', 'Pixel=1080', 'Selling Price',\n",
              "       'Yearly units sold in US'],\n",
              "      dtype='object')"
            ]
          },
          "metadata": {},
          "execution_count": 6
        }
      ]
    },
    {
      "cell_type": "code",
      "source": [
        "# turn selling price into float\n",
        "sp = df['Selling Price'].str[1:-3].replace(',','')\n",
        "df['price_2'] = 0\n",
        "for i in range(len(sp)):\n",
        "  a = float(sp[i].replace(',', ''))\n",
        "  df['price_2'][i] = a"
      ],
      "metadata": {
        "id": "ueOdMYbxYPHB"
      },
      "execution_count": null,
      "outputs": []
    },
    {
      "cell_type": "markdown",
      "source": [
        "# Where Panasonic stands in each feature (each user rating category) relative to their competitors? Which feature should they invest first?\n",
        "\n",
        "Panasonic's ranks in each feature:\n",
        "\n",
        "Appearance: 5th\n",
        "\n",
        "Ease of Set up: 1st\n",
        "\n",
        "Life Span: 1st\n",
        "\n",
        "Number of Features: 3rd\n",
        "\n",
        "Sound quality: 6th\n",
        "\n",
        "Video Quality: 1st\n",
        "\n",
        "Pnasonic performed amazingly in ease of set up, life span video quality. It performed weill in number of features. It did poor in sound quality and appearance.\n",
        "\n",
        "As showned in the coefficeient plot below, among six features, the importance regard to revenue are ranked as:\n",
        "\n",
        "\tCoefficients\n",
        "Video Quality:\t281424\n",
        "\n",
        "Number of Features:\t200611\n",
        "\n",
        "Ease of Set up: 124647\n",
        "\n",
        "Appearance:\t94178\n",
        "\n",
        "Life Span:\t40194\n",
        "\n",
        "Sound quality:\t20507\n",
        "\n",
        "Thus, insead of investing features based on current customer rating rank, investing according to the feature importance above is most capital efficient.\n"
      ],
      "metadata": {
        "id": "xFmRKHFyXC02"
      }
    },
    {
      "cell_type": "code",
      "source": [
        "pt1 = pd.pivot_table(df, values=['Video Quality', 'Sound quality', 'Appearance', 'Number of Features', 'Ease of Set up', 'Life Span'], \n",
        "               index='Manufacturer', aggfunc=[np.mean, np.median])\n",
        "pt1"
      ],
      "metadata": {
        "colab": {
          "base_uri": "https://localhost:8080/",
          "height": 424
        },
        "id": "SOd6DbPZXMpy",
        "outputId": "5c0078dd-c937-4dcc-9470-3f42ef8c0087"
      },
      "execution_count": 9,
      "outputs": [
        {
          "output_type": "execute_result",
          "data": {
            "text/plain": [
              "                   mean                                              \\\n",
              "             Appearance Ease of Set up Life Span Number of Features   \n",
              "Manufacturer                                                          \n",
              "LG             3.971932       3.601591  3.100909           4.225341   \n",
              "Panasonic      3.586818       4.211136  4.637045           3.814205   \n",
              "Philips        4.025114       3.209659  3.595909           2.903636   \n",
              "Samsung        4.220114       3.883636  4.491136           4.378636   \n",
              "Sharp          3.461023       3.191705  3.382955           3.361136   \n",
              "Sony           3.964659       3.728977  4.102045           3.236818   \n",
              "Toshiba        3.482841       3.403409  3.509318           3.433636   \n",
              "Vizio          3.127045       3.400795  3.542273           3.154205   \n",
              "\n",
              "                                             median                           \\\n",
              "             Sound quality Video Quality Appearance Ease of Set up Life Span   \n",
              "Manufacturer                                                                   \n",
              "LG                4.209659      3.415795      3.975          3.610     3.100   \n",
              "Panasonic         3.503295      4.378523      3.580          4.195     4.630   \n",
              "Philips           3.889773      3.391364      4.010          3.240     3.595   \n",
              "Samsung           4.204205      4.131591      4.210          3.895     4.490   \n",
              "Sharp             3.633750      3.572159      3.450          3.195     3.385   \n",
              "Sony              4.081591      3.906250      3.960          3.730     4.100   \n",
              "Toshiba           3.110114      3.056818      3.460          3.395     3.520   \n",
              "Vizio             2.992386      3.104205      3.150          3.395     3.520   \n",
              "\n",
              "                                                             \n",
              "             Number of Features Sound quality Video Quality  \n",
              "Manufacturer                                                 \n",
              "LG                        4.230          4.20         3.400  \n",
              "Panasonic                 3.840          3.48         4.375  \n",
              "Philips                   2.910          3.92         3.395  \n",
              "Samsung                   4.395          4.22         4.135  \n",
              "Sharp                     3.405          3.64         3.595  \n",
              "Sony                      3.240          4.08         3.900  \n",
              "Toshiba                   3.440          3.10         3.050  \n",
              "Vizio                     3.140          3.02         3.100  "
            ],
            "text/html": [
              "\n",
              "  <div id=\"df-ab64f857-2740-4246-b042-269ed42c1306\">\n",
              "    <div class=\"colab-df-container\">\n",
              "      <div>\n",
              "<style scoped>\n",
              "    .dataframe tbody tr th:only-of-type {\n",
              "        vertical-align: middle;\n",
              "    }\n",
              "\n",
              "    .dataframe tbody tr th {\n",
              "        vertical-align: top;\n",
              "    }\n",
              "\n",
              "    .dataframe thead tr th {\n",
              "        text-align: left;\n",
              "    }\n",
              "\n",
              "    .dataframe thead tr:last-of-type th {\n",
              "        text-align: right;\n",
              "    }\n",
              "</style>\n",
              "<table border=\"1\" class=\"dataframe\">\n",
              "  <thead>\n",
              "    <tr>\n",
              "      <th></th>\n",
              "      <th colspan=\"6\" halign=\"left\">mean</th>\n",
              "      <th colspan=\"6\" halign=\"left\">median</th>\n",
              "    </tr>\n",
              "    <tr>\n",
              "      <th></th>\n",
              "      <th>Appearance</th>\n",
              "      <th>Ease of Set up</th>\n",
              "      <th>Life Span</th>\n",
              "      <th>Number of Features</th>\n",
              "      <th>Sound quality</th>\n",
              "      <th>Video Quality</th>\n",
              "      <th>Appearance</th>\n",
              "      <th>Ease of Set up</th>\n",
              "      <th>Life Span</th>\n",
              "      <th>Number of Features</th>\n",
              "      <th>Sound quality</th>\n",
              "      <th>Video Quality</th>\n",
              "    </tr>\n",
              "    <tr>\n",
              "      <th>Manufacturer</th>\n",
              "      <th></th>\n",
              "      <th></th>\n",
              "      <th></th>\n",
              "      <th></th>\n",
              "      <th></th>\n",
              "      <th></th>\n",
              "      <th></th>\n",
              "      <th></th>\n",
              "      <th></th>\n",
              "      <th></th>\n",
              "      <th></th>\n",
              "      <th></th>\n",
              "    </tr>\n",
              "  </thead>\n",
              "  <tbody>\n",
              "    <tr>\n",
              "      <th>LG</th>\n",
              "      <td>3.971932</td>\n",
              "      <td>3.601591</td>\n",
              "      <td>3.100909</td>\n",
              "      <td>4.225341</td>\n",
              "      <td>4.209659</td>\n",
              "      <td>3.415795</td>\n",
              "      <td>3.975</td>\n",
              "      <td>3.610</td>\n",
              "      <td>3.100</td>\n",
              "      <td>4.230</td>\n",
              "      <td>4.20</td>\n",
              "      <td>3.400</td>\n",
              "    </tr>\n",
              "    <tr>\n",
              "      <th>Panasonic</th>\n",
              "      <td>3.586818</td>\n",
              "      <td>4.211136</td>\n",
              "      <td>4.637045</td>\n",
              "      <td>3.814205</td>\n",
              "      <td>3.503295</td>\n",
              "      <td>4.378523</td>\n",
              "      <td>3.580</td>\n",
              "      <td>4.195</td>\n",
              "      <td>4.630</td>\n",
              "      <td>3.840</td>\n",
              "      <td>3.48</td>\n",
              "      <td>4.375</td>\n",
              "    </tr>\n",
              "    <tr>\n",
              "      <th>Philips</th>\n",
              "      <td>4.025114</td>\n",
              "      <td>3.209659</td>\n",
              "      <td>3.595909</td>\n",
              "      <td>2.903636</td>\n",
              "      <td>3.889773</td>\n",
              "      <td>3.391364</td>\n",
              "      <td>4.010</td>\n",
              "      <td>3.240</td>\n",
              "      <td>3.595</td>\n",
              "      <td>2.910</td>\n",
              "      <td>3.92</td>\n",
              "      <td>3.395</td>\n",
              "    </tr>\n",
              "    <tr>\n",
              "      <th>Samsung</th>\n",
              "      <td>4.220114</td>\n",
              "      <td>3.883636</td>\n",
              "      <td>4.491136</td>\n",
              "      <td>4.378636</td>\n",
              "      <td>4.204205</td>\n",
              "      <td>4.131591</td>\n",
              "      <td>4.210</td>\n",
              "      <td>3.895</td>\n",
              "      <td>4.490</td>\n",
              "      <td>4.395</td>\n",
              "      <td>4.22</td>\n",
              "      <td>4.135</td>\n",
              "    </tr>\n",
              "    <tr>\n",
              "      <th>Sharp</th>\n",
              "      <td>3.461023</td>\n",
              "      <td>3.191705</td>\n",
              "      <td>3.382955</td>\n",
              "      <td>3.361136</td>\n",
              "      <td>3.633750</td>\n",
              "      <td>3.572159</td>\n",
              "      <td>3.450</td>\n",
              "      <td>3.195</td>\n",
              "      <td>3.385</td>\n",
              "      <td>3.405</td>\n",
              "      <td>3.64</td>\n",
              "      <td>3.595</td>\n",
              "    </tr>\n",
              "    <tr>\n",
              "      <th>Sony</th>\n",
              "      <td>3.964659</td>\n",
              "      <td>3.728977</td>\n",
              "      <td>4.102045</td>\n",
              "      <td>3.236818</td>\n",
              "      <td>4.081591</td>\n",
              "      <td>3.906250</td>\n",
              "      <td>3.960</td>\n",
              "      <td>3.730</td>\n",
              "      <td>4.100</td>\n",
              "      <td>3.240</td>\n",
              "      <td>4.08</td>\n",
              "      <td>3.900</td>\n",
              "    </tr>\n",
              "    <tr>\n",
              "      <th>Toshiba</th>\n",
              "      <td>3.482841</td>\n",
              "      <td>3.403409</td>\n",
              "      <td>3.509318</td>\n",
              "      <td>3.433636</td>\n",
              "      <td>3.110114</td>\n",
              "      <td>3.056818</td>\n",
              "      <td>3.460</td>\n",
              "      <td>3.395</td>\n",
              "      <td>3.520</td>\n",
              "      <td>3.440</td>\n",
              "      <td>3.10</td>\n",
              "      <td>3.050</td>\n",
              "    </tr>\n",
              "    <tr>\n",
              "      <th>Vizio</th>\n",
              "      <td>3.127045</td>\n",
              "      <td>3.400795</td>\n",
              "      <td>3.542273</td>\n",
              "      <td>3.154205</td>\n",
              "      <td>2.992386</td>\n",
              "      <td>3.104205</td>\n",
              "      <td>3.150</td>\n",
              "      <td>3.395</td>\n",
              "      <td>3.520</td>\n",
              "      <td>3.140</td>\n",
              "      <td>3.02</td>\n",
              "      <td>3.100</td>\n",
              "    </tr>\n",
              "  </tbody>\n",
              "</table>\n",
              "</div>\n",
              "      <button class=\"colab-df-convert\" onclick=\"convertToInteractive('df-ab64f857-2740-4246-b042-269ed42c1306')\"\n",
              "              title=\"Convert this dataframe to an interactive table.\"\n",
              "              style=\"display:none;\">\n",
              "        \n",
              "  <svg xmlns=\"http://www.w3.org/2000/svg\" height=\"24px\"viewBox=\"0 0 24 24\"\n",
              "       width=\"24px\">\n",
              "    <path d=\"M0 0h24v24H0V0z\" fill=\"none\"/>\n",
              "    <path d=\"M18.56 5.44l.94 2.06.94-2.06 2.06-.94-2.06-.94-.94-2.06-.94 2.06-2.06.94zm-11 1L8.5 8.5l.94-2.06 2.06-.94-2.06-.94L8.5 2.5l-.94 2.06-2.06.94zm10 10l.94 2.06.94-2.06 2.06-.94-2.06-.94-.94-2.06-.94 2.06-2.06.94z\"/><path d=\"M17.41 7.96l-1.37-1.37c-.4-.4-.92-.59-1.43-.59-.52 0-1.04.2-1.43.59L10.3 9.45l-7.72 7.72c-.78.78-.78 2.05 0 2.83L4 21.41c.39.39.9.59 1.41.59.51 0 1.02-.2 1.41-.59l7.78-7.78 2.81-2.81c.8-.78.8-2.07 0-2.86zM5.41 20L4 18.59l7.72-7.72 1.47 1.35L5.41 20z\"/>\n",
              "  </svg>\n",
              "      </button>\n",
              "      \n",
              "  <style>\n",
              "    .colab-df-container {\n",
              "      display:flex;\n",
              "      flex-wrap:wrap;\n",
              "      gap: 12px;\n",
              "    }\n",
              "\n",
              "    .colab-df-convert {\n",
              "      background-color: #E8F0FE;\n",
              "      border: none;\n",
              "      border-radius: 50%;\n",
              "      cursor: pointer;\n",
              "      display: none;\n",
              "      fill: #1967D2;\n",
              "      height: 32px;\n",
              "      padding: 0 0 0 0;\n",
              "      width: 32px;\n",
              "    }\n",
              "\n",
              "    .colab-df-convert:hover {\n",
              "      background-color: #E2EBFA;\n",
              "      box-shadow: 0px 1px 2px rgba(60, 64, 67, 0.3), 0px 1px 3px 1px rgba(60, 64, 67, 0.15);\n",
              "      fill: #174EA6;\n",
              "    }\n",
              "\n",
              "    [theme=dark] .colab-df-convert {\n",
              "      background-color: #3B4455;\n",
              "      fill: #D2E3FC;\n",
              "    }\n",
              "\n",
              "    [theme=dark] .colab-df-convert:hover {\n",
              "      background-color: #434B5C;\n",
              "      box-shadow: 0px 1px 3px 1px rgba(0, 0, 0, 0.15);\n",
              "      filter: drop-shadow(0px 1px 2px rgba(0, 0, 0, 0.3));\n",
              "      fill: #FFFFFF;\n",
              "    }\n",
              "  </style>\n",
              "\n",
              "      <script>\n",
              "        const buttonEl =\n",
              "          document.querySelector('#df-ab64f857-2740-4246-b042-269ed42c1306 button.colab-df-convert');\n",
              "        buttonEl.style.display =\n",
              "          google.colab.kernel.accessAllowed ? 'block' : 'none';\n",
              "\n",
              "        async function convertToInteractive(key) {\n",
              "          const element = document.querySelector('#df-ab64f857-2740-4246-b042-269ed42c1306');\n",
              "          const dataTable =\n",
              "            await google.colab.kernel.invokeFunction('convertToInteractive',\n",
              "                                                     [key], {});\n",
              "          if (!dataTable) return;\n",
              "\n",
              "          const docLinkHtml = 'Like what you see? Visit the ' +\n",
              "            '<a target=\"_blank\" href=https://colab.research.google.com/notebooks/data_table.ipynb>data table notebook</a>'\n",
              "            + ' to learn more about interactive tables.';\n",
              "          element.innerHTML = '';\n",
              "          dataTable['output_type'] = 'display_data';\n",
              "          await google.colab.output.renderOutput(dataTable, element);\n",
              "          const docLink = document.createElement('div');\n",
              "          docLink.innerHTML = docLinkHtml;\n",
              "          element.appendChild(docLink);\n",
              "        }\n",
              "      </script>\n",
              "    </div>\n",
              "  </div>\n",
              "  "
            ]
          },
          "metadata": {},
          "execution_count": 9
        }
      ]
    },
    {
      "cell_type": "markdown",
      "source": [
        "### Feature 1: Appearance\n",
        "Among 8 brands, Panasonic ranks 5th in the feature."
      ],
      "metadata": {
        "id": "_PJzSw1-bkwd"
      }
    },
    {
      "cell_type": "code",
      "source": [
        "fea = 'Appearance'"
      ],
      "metadata": {
        "id": "LzBjN6lBV4tD"
      },
      "execution_count": 6,
      "outputs": []
    },
    {
      "cell_type": "code",
      "source": [
        "fig, axes = plt.subplots(nrows=1, ncols=2, figsize=(15,5))\n",
        "\n",
        "ax = pt1['mean'].loc[:,fea].sort_values(ascending=False).plot(kind='bar', ax=axes[0])\n",
        "ax.set_title(fea+' - Mean')\n",
        "for p in ax.patches:\n",
        "    ax.annotate(str(round(p.get_height(),2)), (p.get_x() * 1.005, p.get_height() * 1.005))\n",
        "\n",
        "ax = pt1['median'].loc[:,fea].sort_values(ascending=False).plot(kind='bar', ax=axes[1])\n",
        "ax.set_title(fea+' - Median')\n",
        "for p in ax.patches:\n",
        "    ax.annotate(str(round(p.get_height(),2)), (p.get_x() * 1.005, p.get_height() * 1.005))"
      ],
      "metadata": {
        "colab": {
          "base_uri": "https://localhost:8080/",
          "height": 390
        },
        "id": "w2UAnvrkNtAT",
        "outputId": "533eb667-6d9c-4048-de8d-f02eea527092"
      },
      "execution_count": 12,
      "outputs": [
        {
          "output_type": "display_data",
          "data": {
            "text/plain": [
              "<Figure size 1080x360 with 2 Axes>"
            ],
            "image/png": "[encoded data removed]"
          },
          "metadata": {
            "needs_background": "light"
          }
        }
      ]
    },
    {
      "cell_type": "markdown",
      "source": [
        "### Feature 2: Ease of Set up\n",
        "Among 8 brands, Panasonic ranks 1st in the feature."
      ],
      "metadata": {
        "id": "s50qtGrCdPY0"
      }
    },
    {
      "cell_type": "code",
      "source": [
        "fea = 'Ease of Set up'"
      ],
      "metadata": {
        "id": "XXY1sGkehVdm"
      },
      "execution_count": 10,
      "outputs": []
    },
    {
      "cell_type": "code",
      "source": [
        "fig, axes = plt.subplots(nrows=1, ncols=2, figsize=(15,5))\n",
        "\n",
        "ax = pt1['mean'].loc[:,fea].sort_values(ascending=False).plot(kind='bar', ax=axes[0])\n",
        "ax.set_title(fea+' - Mean')\n",
        "for p in ax.patches:\n",
        "    ax.annotate(str(round(p.get_height(),2)), (p.get_x() * 1.005, p.get_height() * 1.005))\n",
        "\n",
        "ax = pt1['median'].loc[:,fea].sort_values(ascending=False).plot(kind='bar', ax=axes[1])\n",
        "ax.set_title(fea+' - Median')\n",
        "for p in ax.patches:\n",
        "    ax.annotate(str(round(p.get_height(),2)), (p.get_x() * 1.005, p.get_height() * 1.005))"
      ],
      "metadata": {
        "colab": {
          "base_uri": "https://localhost:8080/",
          "height": 390
        },
        "outputId": "087f0631-542c-433e-a1a7-2bf37822f408",
        "id": "AAgsXljydPY0"
      },
      "execution_count": 11,
      "outputs": [
        {
          "output_type": "display_data",
          "data": {
            "text/plain": [
              "<Figure size 1080x360 with 2 Axes>"
            ],
            "image/png": "[encoded data removed]"
          },
          "metadata": {
            "needs_background": "light"
          }
        }
      ]
    },
    {
      "cell_type": "markdown",
      "source": [
        "### Feature 3: Life Span\n",
        "Among 8 brands, Panasonic ranks 1st in the feature."
      ],
      "metadata": {
        "id": "Irp8s6wAdQE2"
      }
    },
    {
      "cell_type": "code",
      "source": [
        "fea = 'Life Span'"
      ],
      "metadata": {
        "id": "FkbZTTXNh9Zq"
      },
      "execution_count": 13,
      "outputs": []
    },
    {
      "cell_type": "code",
      "source": [
        "fig, axes = plt.subplots(nrows=1, ncols=2, figsize=(15,5))\n",
        "\n",
        "ax = pt1['mean'].loc[:,fea].sort_values(ascending=False).plot(kind='bar', ax=axes[0])\n",
        "ax.set_title(fea+' - Mean')\n",
        "for p in ax.patches:\n",
        "    ax.annotate(str(round(p.get_height(),2)), (p.get_x() * 1.005, p.get_height() * 1.005))\n",
        "\n",
        "ax = pt1['median'].loc[:,fea].sort_values(ascending=False).plot(kind='bar', ax=axes[1])\n",
        "ax.set_title(fea+' - Median')\n",
        "for p in ax.patches:\n",
        "    ax.annotate(str(round(p.get_height(),2)), (p.get_x() * 1.005, p.get_height() * 1.005))"
      ],
      "metadata": {
        "colab": {
          "base_uri": "https://localhost:8080/",
          "height": 390
        },
        "outputId": "0644b4c2-a6e9-485e-c7ff-b0efd8e3bd84",
        "id": "MIvyTWwYdQE3"
      },
      "execution_count": 14,
      "outputs": [
        {
          "output_type": "display_data",
          "data": {
            "text/plain": [
              "<Figure size 1080x360 with 2 Axes>"
            ],
            "image/png": "[encoded data removed]"
          },
          "metadata": {
            "needs_background": "light"
          }
        }
      ]
    },
    {
      "cell_type": "markdown",
      "source": [
        "### Feature 4: Number of Features\n",
        "Among 8 brands, Panasonic ranks 3rd in the feature."
      ],
      "metadata": {
        "id": "GTWS2mFydQzd"
      }
    },
    {
      "cell_type": "code",
      "source": [
        "fea = 'Number of Features'"
      ],
      "metadata": {
        "id": "XU0yBQgxiPyk"
      },
      "execution_count": 15,
      "outputs": []
    },
    {
      "cell_type": "code",
      "source": [
        "fig, axes = plt.subplots(nrows=1, ncols=2, figsize=(15,5))\n",
        "\n",
        "ax = pt1['mean'].loc[:,fea].sort_values(ascending=False).plot(kind='bar', ax=axes[0])\n",
        "ax.set_title(fea+' - Mean')\n",
        "for p in ax.patches:\n",
        "    ax.annotate(str(round(p.get_height(),2)), (p.get_x() * 1.005, p.get_height() * 1.005))\n",
        "\n",
        "ax = pt1['median'].loc[:,fea].sort_values(ascending=False).plot(kind='bar', ax=axes[1])\n",
        "ax.set_title(fea+' - Median')\n",
        "for p in ax.patches:\n",
        "    ax.annotate(str(round(p.get_height(),2)), (p.get_x() * 1.005, p.get_height() * 1.005))"
      ],
      "metadata": {
        "colab": {
          "base_uri": "https://localhost:8080/",
          "height": 390
        },
        "outputId": "b7f0c9e6-d9e9-41e0-8eed-119ba5ef8a36",
        "id": "OY6gxHseiPyk"
      },
      "execution_count": 16,
      "outputs": [
        {
          "output_type": "display_data",
          "data": {
            "text/plain": [
              "<Figure size 1080x360 with 2 Axes>"
            ],
            "image/png": "[encoded data removed]"
          },
          "metadata": {
            "needs_background": "light"
          }
        }
      ]
    },
    {
      "cell_type": "markdown",
      "source": [
        "### Feature 5: Sound quality\n",
        "Among 8 brands, Panasonic ranks 6th in the feature."
      ],
      "metadata": {
        "id": "ikDc8b9NicUF"
      }
    },
    {
      "cell_type": "code",
      "source": [
        "fea = 'Sound quality'"
      ],
      "metadata": {
        "id": "n-erSwCWicUF"
      },
      "execution_count": 17,
      "outputs": []
    },
    {
      "cell_type": "code",
      "source": [
        "fig, axes = plt.subplots(nrows=1, ncols=2, figsize=(15,5))\n",
        "\n",
        "ax = pt1['mean'].loc[:,fea].sort_values(ascending=False).plot(kind='bar', ax=axes[0])\n",
        "ax.set_title(fea+' - Mean')\n",
        "for p in ax.patches:\n",
        "    ax.annotate(str(round(p.get_height(),2)), (p.get_x() * 1.005, p.get_height() * 1.005))\n",
        "\n",
        "ax = pt1['median'].loc[:,fea].sort_values(ascending=False).plot(kind='bar', ax=axes[1])\n",
        "ax.set_title(fea+' - Median')\n",
        "for p in ax.patches:\n",
        "    ax.annotate(str(round(p.get_height(),2)), (p.get_x() * 1.005, p.get_height() * 1.005))"
      ],
      "metadata": {
        "colab": {
          "base_uri": "https://localhost:8080/",
          "height": 390
        },
        "outputId": "f224086e-4890-4cc3-9480-4150494fd130",
        "id": "JliRyomficUF"
      },
      "execution_count": 18,
      "outputs": [
        {
          "output_type": "display_data",
          "data": {
            "text/plain": [
              "<Figure size 1080x360 with 2 Axes>"
            ],
            "image/png": "[encoded data removed]"
          },
          "metadata": {
            "needs_background": "light"
          }
        }
      ]
    },
    {
      "cell_type": "markdown",
      "source": [
        "### Feature 6: Video Quality\n",
        "Among 8 brands, Panasonic ranks 1st in the feature."
      ],
      "metadata": {
        "id": "EOhMhwHyiqG-"
      }
    },
    {
      "cell_type": "code",
      "source": [
        "fea = 'Video Quality'"
      ],
      "metadata": {
        "id": "795dhMVDiqG-"
      },
      "execution_count": 19,
      "outputs": []
    },
    {
      "cell_type": "code",
      "source": [
        "fig, axes = plt.subplots(nrows=1, ncols=2, figsize=(15,5))\n",
        "\n",
        "ax = pt1['mean'].loc[:,fea].sort_values(ascending=False).plot(kind='bar', ax=axes[0])\n",
        "ax.set_title(fea+' - Mean')\n",
        "for p in ax.patches:\n",
        "    ax.annotate(str(round(p.get_height(),2)), (p.get_x() * 1.005, p.get_height() * 1.005))\n",
        "\n",
        "ax = pt1['median'].loc[:,fea].sort_values(ascending=False).plot(kind='bar', ax=axes[1])\n",
        "ax.set_title(fea+' - Median')\n",
        "for p in ax.patches:\n",
        "    ax.annotate(str(round(p.get_height(),2)), (p.get_x() * 1.005, p.get_height() * 1.005))"
      ],
      "metadata": {
        "colab": {
          "base_uri": "https://localhost:8080/",
          "height": 390
        },
        "outputId": "50bf8405-8ab4-4563-b0dc-2c3b6236cda5",
        "id": "zNJso-bBiqG-"
      },
      "execution_count": 20,
      "outputs": [
        {
          "output_type": "display_data",
          "data": {
            "text/plain": [
              "<Figure size 1080x360 with 2 Axes>"
            ],
            "image/png": "[encoded data removed]"
          },
          "metadata": {
            "needs_background": "light"
          }
        }
      ]
    },
    {
      "cell_type": "markdown",
      "source": [
        "### Important features: Linear Regression Model"
      ],
      "metadata": {
        "id": "t2HU9yPPKp-1"
      }
    },
    {
      "cell_type": "code",
      "source": [
        "from sklearn.linear_model import LinearRegression\n",
        "import sklearn.metrics\n",
        "from sklearn.preprocessing import StandardScaler"
      ],
      "metadata": {
        "id": "hIaImI68Gk6X"
      },
      "execution_count": 21,
      "outputs": []
    },
    {
      "cell_type": "code",
      "source": [
        "df.columns"
      ],
      "metadata": {
        "colab": {
          "base_uri": "https://localhost:8080/"
        },
        "id": "o1h1xB7LQzRQ",
        "outputId": "da48e341-28e6-424a-8b3d-56b9cb3946de"
      },
      "execution_count": 22,
      "outputs": [
        {
          "output_type": "execute_result",
          "data": {
            "text/plain": [
              "Index(['Manufacturer', 'Screen Size', 'Motion Rate', 'Pixel', 'Overall Rating',\n",
              "       'Video Quality', 'Sound quality', 'Appearance', 'Number of Features',\n",
              "       'Ease of Set up', 'Life Span', 'Expert Overall Rating', 'size=26\"',\n",
              "       'size=32\"', 'size=36\"', 'size=40\"', 'size=42\"', 'size=46\"', 'size=49\"',\n",
              "       'size=52\"', 'size=55\"', 'size=60\"', 'motionrate=120', 'motionrate=240',\n",
              "       'motionrate=600', 'Pixel=1080', 'Selling Price',\n",
              "       'Yearly units sold in US'],\n",
              "      dtype='object')"
            ]
          },
          "metadata": {},
          "execution_count": 22
        }
      ]
    },
    {
      "cell_type": "code",
      "source": [
        "x = df[['Video Quality', 'Sound quality', 'Appearance', 'Number of Features',\n",
        "       'Ease of Set up', 'Life Span', 'size=26\"',\n",
        "       'size=32\"', 'size=36\"', 'size=40\"', 'size=42\"', 'size=46\"', 'size=49\"',\n",
        "       'size=52\"', 'size=55\"', 'size=60\"', 'motionrate=120', 'motionrate=240',\n",
        "       'motionrate=600', 'Pixel=1080', 'price_2']]\n",
        "x.head()"
      ],
      "metadata": {
        "colab": {
          "base_uri": "https://localhost:8080/",
          "height": 352
        },
        "id": "734PS0R4Gp-I",
        "outputId": "839ea531-e6ad-45c2-effd-36e148ba9c29"
      },
      "execution_count": 90,
      "outputs": [
        {
          "output_type": "execute_result",
          "data": {
            "text/plain": [
              "   Video Quality  Sound quality  Appearance  Number of Features  \\\n",
              "0           3.34           4.12        3.61                4.33   \n",
              "1           3.30           4.07        4.12                4.55   \n",
              "2           3.38           4.37        4.07                4.11   \n",
              "3           3.37           4.16        4.25                4.14   \n",
              "4           3.54           4.57        4.10                4.23   \n",
              "\n",
              "   Ease of Set up  Life Span  size=26\"  size=32\"  size=36\"  size=40\"  ...  \\\n",
              "0            3.38       2.99         0         0         0         0  ...   \n",
              "1            4.08       3.04         0         0         0         0  ...   \n",
              "2            3.40       3.13         0         0         0         0  ...   \n",
              "3            3.37       3.29         0         0         0         0  ...   \n",
              "4            3.76       3.13         0         0         0         0  ...   \n",
              "\n",
              "   size=46\"  size=49\"  size=52\"  size=55\"  size=60\"  motionrate=120  \\\n",
              "0         0         0         0         0         0               0   \n",
              "1         0         0         0         0         0               0   \n",
              "2         0         0         0         0         0               1   \n",
              "3         0         0         0         0         0               1   \n",
              "4         0         0         0         0         0               0   \n",
              "\n",
              "   motionrate=240  motionrate=600  Pixel=1080  price_2  \n",
              "0               0               0           0      430  \n",
              "1               0               0           1      535  \n",
              "2               0               0           0      495  \n",
              "3               0               0           1      540  \n",
              "4               1               0           0      545  \n",
              "\n",
              "[5 rows x 21 columns]"
            ],
            "text/html": [
              "\n",
              "  <div id=\"df-91afdc98-e884-429a-b56e-afc45edfb04d\">\n",
              "    <div class=\"colab-df-container\">\n",
              "      <div>\n",
              "<style scoped>\n",
              "    .dataframe tbody tr th:only-of-type {\n",
              "        vertical-align: middle;\n",
              "    }\n",
              "\n",
              "    .dataframe tbody tr th {\n",
              "        vertical-align: top;\n",
              "    }\n",
              "\n",
              "    .dataframe thead th {\n",
              "        text-align: right;\n",
              "    }\n",
              "</style>\n",
              "<table border=\"1\" class=\"dataframe\">\n",
              "  <thead>\n",
              "    <tr style=\"text-align: right;\">\n",
              "      <th></th>\n",
              "      <th>Video Quality</th>\n",
              "      <th>Sound quality</th>\n",
              "      <th>Appearance</th>\n",
              "      <th>Number of Features</th>\n",
              "      <th>Ease of Set up</th>\n",
              "      <th>Life Span</th>\n",
              "      <th>size=26\"</th>\n",
              "      <th>size=32\"</th>\n",
              "      <th>size=36\"</th>\n",
              "      <th>size=40\"</th>\n",
              "      <th>...</th>\n",
              "      <th>size=46\"</th>\n",
              "      <th>size=49\"</th>\n",
              "      <th>size=52\"</th>\n",
              "      <th>size=55\"</th>\n",
              "      <th>size=60\"</th>\n",
              "      <th>motionrate=120</th>\n",
              "      <th>motionrate=240</th>\n",
              "      <th>motionrate=600</th>\n",
              "      <th>Pixel=1080</th>\n",
              "      <th>price_2</th>\n",
              "    </tr>\n",
              "  </thead>\n",
              "  <tbody>\n",
              "    <tr>\n",
              "      <th>0</th>\n",
              "      <td>3.34</td>\n",
              "      <td>4.12</td>\n",
              "      <td>3.61</td>\n",
              "      <td>4.33</td>\n",
              "      <td>3.38</td>\n",
              "      <td>2.99</td>\n",
              "      <td>0</td>\n",
              "      <td>0</td>\n",
              "      <td>0</td>\n",
              "      <td>0</td>\n",
              "      <td>...</td>\n",
              "      <td>0</td>\n",
              "      <td>0</td>\n",
              "      <td>0</td>\n",
              "      <td>0</td>\n",
              "      <td>0</td>\n",
              "      <td>0</td>\n",
              "      <td>0</td>\n",
              "      <td>0</td>\n",
              "      <td>0</td>\n",
              "      <td>430</td>\n",
              "    </tr>\n",
              "    <tr>\n",
              "      <th>1</th>\n",
              "      <td>3.30</td>\n",
              "      <td>4.07</td>\n",
              "      <td>4.12</td>\n",
              "      <td>4.55</td>\n",
              "      <td>4.08</td>\n",
              "      <td>3.04</td>\n",
              "      <td>0</td>\n",
              "      <td>0</td>\n",
              "      <td>0</td>\n",
              "      <td>0</td>\n",
              "      <td>...</td>\n",
              "      <td>0</td>\n",
              "      <td>0</td>\n",
              "      <td>0</td>\n",
              "      <td>0</td>\n",
              "      <td>0</td>\n",
              "      <td>0</td>\n",
              "      <td>0</td>\n",
              "      <td>0</td>\n",
              "      <td>1</td>\n",
              "      <td>535</td>\n",
              "    </tr>\n",
              "    <tr>\n",
              "      <th>2</th>\n",
              "      <td>3.38</td>\n",
              "      <td>4.37</td>\n",
              "      <td>4.07</td>\n",
              "      <td>4.11</td>\n",
              "      <td>3.40</td>\n",
              "      <td>3.13</td>\n",
              "      <td>0</td>\n",
              "      <td>0</td>\n",
              "      <td>0</td>\n",
              "      <td>0</td>\n",
              "      <td>...</td>\n",
              "      <td>0</td>\n",
              "      <td>0</td>\n",
              "      <td>0</td>\n",
              "      <td>0</td>\n",
              "      <td>0</td>\n",
              "      <td>1</td>\n",
              "      <td>0</td>\n",
              "      <td>0</td>\n",
              "      <td>0</td>\n",
              "      <td>495</td>\n",
              "    </tr>\n",
              "    <tr>\n",
              "      <th>3</th>\n",
              "      <td>3.37</td>\n",
              "      <td>4.16</td>\n",
              "      <td>4.25</td>\n",
              "      <td>4.14</td>\n",
              "      <td>3.37</td>\n",
              "      <td>3.29</td>\n",
              "      <td>0</td>\n",
              "      <td>0</td>\n",
              "      <td>0</td>\n",
              "      <td>0</td>\n",
              "      <td>...</td>\n",
              "      <td>0</td>\n",
              "      <td>0</td>\n",
              "      <td>0</td>\n",
              "      <td>0</td>\n",
              "      <td>0</td>\n",
              "      <td>1</td>\n",
              "      <td>0</td>\n",
              "      <td>0</td>\n",
              "      <td>1</td>\n",
              "      <td>540</td>\n",
              "    </tr>\n",
              "    <tr>\n",
              "      <th>4</th>\n",
              "      <td>3.54</td>\n",
              "      <td>4.57</td>\n",
              "      <td>4.10</td>\n",
              "      <td>4.23</td>\n",
              "      <td>3.76</td>\n",
              "      <td>3.13</td>\n",
              "      <td>0</td>\n",
              "      <td>0</td>\n",
              "      <td>0</td>\n",
              "      <td>0</td>\n",
              "      <td>...</td>\n",
              "      <td>0</td>\n",
              "      <td>0</td>\n",
              "      <td>0</td>\n",
              "      <td>0</td>\n",
              "      <td>0</td>\n",
              "      <td>0</td>\n",
              "      <td>1</td>\n",
              "      <td>0</td>\n",
              "      <td>0</td>\n",
              "      <td>545</td>\n",
              "    </tr>\n",
              "  </tbody>\n",
              "</table>\n",
              "<p>5 rows × 21 columns</p>\n",
              "</div>\n",
              "      <button class=\"colab-df-convert\" onclick=\"convertToInteractive('df-91afdc98-e884-429a-b56e-afc45edfb04d')\"\n",
              "              title=\"Convert this dataframe to an interactive table.\"\n",
              "              style=\"display:none;\">\n",
              "        \n",
              "  <svg xmlns=\"http://www.w3.org/2000/svg\" height=\"24px\"viewBox=\"0 0 24 24\"\n",
              "       width=\"24px\">\n",
              "    <path d=\"M0 0h24v24H0V0z\" fill=\"none\"/>\n",
              "    <path d=\"M18.56 5.44l.94 2.06.94-2.06 2.06-.94-2.06-.94-.94-2.06-.94 2.06-2.06.94zm-11 1L8.5 8.5l.94-2.06 2.06-.94-2.06-.94L8.5 2.5l-.94 2.06-2.06.94zm10 10l.94 2.06.94-2.06 2.06-.94-2.06-.94-.94-2.06-.94 2.06-2.06.94z\"/><path d=\"M17.41 7.96l-1.37-1.37c-.4-.4-.92-.59-1.43-.59-.52 0-1.04.2-1.43.59L10.3 9.45l-7.72 7.72c-.78.78-.78 2.05 0 2.83L4 21.41c.39.39.9.59 1.41.59.51 0 1.02-.2 1.41-.59l7.78-7.78 2.81-2.81c.8-.78.8-2.07 0-2.86zM5.41 20L4 18.59l7.72-7.72 1.47 1.35L5.41 20z\"/>\n",
              "  </svg>\n",
              "      </button>\n",
              "      \n",
              "  <style>\n",
              "    .colab-df-container {\n",
              "      display:flex;\n",
              "      flex-wrap:wrap;\n",
              "      gap: 12px;\n",
              "    }\n",
              "\n",
              "    .colab-df-convert {\n",
              "      background-color: #E8F0FE;\n",
              "      border: none;\n",
              "      border-radius: 50%;\n",
              "      cursor: pointer;\n",
              "      display: none;\n",
              "      fill: #1967D2;\n",
              "      height: 32px;\n",
              "      padding: 0 0 0 0;\n",
              "      width: 32px;\n",
              "    }\n",
              "\n",
              "    .colab-df-convert:hover {\n",
              "      background-color: #E2EBFA;\n",
              "      box-shadow: 0px 1px 2px rgba(60, 64, 67, 0.3), 0px 1px 3px 1px rgba(60, 64, 67, 0.15);\n",
              "      fill: #174EA6;\n",
              "    }\n",
              "\n",
              "    [theme=dark] .colab-df-convert {\n",
              "      background-color: #3B4455;\n",
              "      fill: #D2E3FC;\n",
              "    }\n",
              "\n",
              "    [theme=dark] .colab-df-convert:hover {\n",
              "      background-color: #434B5C;\n",
              "      box-shadow: 0px 1px 3px 1px rgba(0, 0, 0, 0.15);\n",
              "      filter: drop-shadow(0px 1px 2px rgba(0, 0, 0, 0.3));\n",
              "      fill: #FFFFFF;\n",
              "    }\n",
              "  </style>\n",
              "\n",
              "      <script>\n",
              "        const buttonEl =\n",
              "          document.querySelector('#df-91afdc98-e884-429a-b56e-afc45edfb04d button.colab-df-convert');\n",
              "        buttonEl.style.display =\n",
              "          google.colab.kernel.accessAllowed ? 'block' : 'none';\n",
              "\n",
              "        async function convertToInteractive(key) {\n",
              "          const element = document.querySelector('#df-91afdc98-e884-429a-b56e-afc45edfb04d');\n",
              "          const dataTable =\n",
              "            await google.colab.kernel.invokeFunction('convertToInteractive',\n",
              "                                                     [key], {});\n",
              "          if (!dataTable) return;\n",
              "\n",
              "          const docLinkHtml = 'Like what you see? Visit the ' +\n",
              "            '<a target=\"_blank\" href=https://colab.research.google.com/notebooks/data_table.ipynb>data table notebook</a>'\n",
              "            + ' to learn more about interactive tables.';\n",
              "          element.innerHTML = '';\n",
              "          dataTable['output_type'] = 'display_data';\n",
              "          await google.colab.output.renderOutput(dataTable, element);\n",
              "          const docLink = document.createElement('div');\n",
              "          docLink.innerHTML = docLinkHtml;\n",
              "          element.appendChild(docLink);\n",
              "        }\n",
              "      </script>\n",
              "    </div>\n",
              "  </div>\n",
              "  "
            ]
          },
          "metadata": {},
          "execution_count": 90
        }
      ]
    },
    {
      "cell_type": "markdown",
      "source": [
        "### Model 1: Units Sold"
      ],
      "metadata": {
        "id": "YJaKNBqNLKRi"
      }
    },
    {
      "cell_type": "code",
      "source": [
        "y = df['Yearly units sold in US']"
      ],
      "metadata": {
        "id": "kOQNZ3F0HzVj"
      },
      "execution_count": 91,
      "outputs": []
    },
    {
      "cell_type": "code",
      "source": [
        "scaler = StandardScaler()\n",
        "x_std = scaler.fit_transform(x)"
      ],
      "metadata": {
        "id": "DFvQkVSAREf6"
      },
      "execution_count": 92,
      "outputs": []
    },
    {
      "cell_type": "code",
      "source": [
        "model = LinearRegression()\n",
        "model.fit(x_std, y)\n",
        "cdf = pd.DataFrame(model.coef_, x.columns, columns=['Coefficients'])\n",
        "print(cdf)\n"
      ],
      "metadata": {
        "colab": {
          "base_uri": "https://localhost:8080/"
        },
        "id": "u0p37NX7HQE-",
        "outputId": "472cd324-6494-4818-fd49-374fd6216dd2"
      },
      "execution_count": 93,
      "outputs": [
        {
          "output_type": "stream",
          "name": "stdout",
          "text": [
            "                    Coefficients\n",
            "Video Quality         296.747949\n",
            "Sound quality          39.149566\n",
            "Appearance             98.890016\n",
            "Number of Features    251.531651\n",
            "Ease of Set up        141.380231\n",
            "Life Span              78.672885\n",
            "size=26\"              283.357519\n",
            "size=32\"              558.125069\n",
            "size=36\"             1702.522894\n",
            "size=40\"              255.068825\n",
            "size=42\"             2260.052856\n",
            "size=46\"             3543.431641\n",
            "size=49\"             -201.550352\n",
            "size=52\"             -370.715148\n",
            "size=55\"             -626.858822\n",
            "size=60\"            -1525.922326\n",
            "motionrate=120         32.501401\n",
            "motionrate=240         65.060099\n",
            "motionrate=600         97.059813\n",
            "Pixel=1080            159.156185\n",
            "price_2              -542.343276\n"
          ]
        }
      ]
    },
    {
      "cell_type": "code",
      "source": [
        "cdf.iloc[:6,].sort_values(by='Coefficients', ascending=False)"
      ],
      "metadata": {
        "colab": {
          "base_uri": "https://localhost:8080/",
          "height": 238
        },
        "id": "Ppue0szZYs26",
        "outputId": "6509809c-57c7-4dd7-aad1-d881b549ad22"
      },
      "execution_count": 94,
      "outputs": [
        {
          "output_type": "execute_result",
          "data": {
            "text/plain": [
              "                    Coefficients\n",
              "Video Quality         296.747949\n",
              "Number of Features    251.531651\n",
              "Ease of Set up        141.380231\n",
              "Appearance             98.890016\n",
              "Life Span              78.672885\n",
              "Sound quality          39.149566"
            ],
            "text/html": [
              "\n",
              "  <div id=\"df-0754c848-40fb-4205-8dd7-99ec9137ccea\">\n",
              "    <div class=\"colab-df-container\">\n",
              "      <div>\n",
              "<style scoped>\n",
              "    .dataframe tbody tr th:only-of-type {\n",
              "        vertical-align: middle;\n",
              "    }\n",
              "\n",
              "    .dataframe tbody tr th {\n",
              "        vertical-align: top;\n",
              "    }\n",
              "\n",
              "    .dataframe thead th {\n",
              "        text-align: right;\n",
              "    }\n",
              "</style>\n",
              "<table border=\"1\" class=\"dataframe\">\n",
              "  <thead>\n",
              "    <tr style=\"text-align: right;\">\n",
              "      <th></th>\n",
              "      <th>Coefficients</th>\n",
              "    </tr>\n",
              "  </thead>\n",
              "  <tbody>\n",
              "    <tr>\n",
              "      <th>Video Quality</th>\n",
              "      <td>296.747949</td>\n",
              "    </tr>\n",
              "    <tr>\n",
              "      <th>Number of Features</th>\n",
              "      <td>251.531651</td>\n",
              "    </tr>\n",
              "    <tr>\n",
              "      <th>Ease of Set up</th>\n",
              "      <td>141.380231</td>\n",
              "    </tr>\n",
              "    <tr>\n",
              "      <th>Appearance</th>\n",
              "      <td>98.890016</td>\n",
              "    </tr>\n",
              "    <tr>\n",
              "      <th>Life Span</th>\n",
              "      <td>78.672885</td>\n",
              "    </tr>\n",
              "    <tr>\n",
              "      <th>Sound quality</th>\n",
              "      <td>39.149566</td>\n",
              "    </tr>\n",
              "  </tbody>\n",
              "</table>\n",
              "</div>\n",
              "      <button class=\"colab-df-convert\" onclick=\"convertToInteractive('df-0754c848-40fb-4205-8dd7-99ec9137ccea')\"\n",
              "              title=\"Convert this dataframe to an interactive table.\"\n",
              "              style=\"display:none;\">\n",
              "        \n",
              "  <svg xmlns=\"http://www.w3.org/2000/svg\" height=\"24px\"viewBox=\"0 0 24 24\"\n",
              "       width=\"24px\">\n",
              "    <path d=\"M0 0h24v24H0V0z\" fill=\"none\"/>\n",
              "    <path d=\"M18.56 5.44l.94 2.06.94-2.06 2.06-.94-2.06-.94-.94-2.06-.94 2.06-2.06.94zm-11 1L8.5 8.5l.94-2.06 2.06-.94-2.06-.94L8.5 2.5l-.94 2.06-2.06.94zm10 10l.94 2.06.94-2.06 2.06-.94-2.06-.94-.94-2.06-.94 2.06-2.06.94z\"/><path d=\"M17.41 7.96l-1.37-1.37c-.4-.4-.92-.59-1.43-.59-.52 0-1.04.2-1.43.59L10.3 9.45l-7.72 7.72c-.78.78-.78 2.05 0 2.83L4 21.41c.39.39.9.59 1.41.59.51 0 1.02-.2 1.41-.59l7.78-7.78 2.81-2.81c.8-.78.8-2.07 0-2.86zM5.41 20L4 18.59l7.72-7.72 1.47 1.35L5.41 20z\"/>\n",
              "  </svg>\n",
              "      </button>\n",
              "      \n",
              "  <style>\n",
              "    .colab-df-container {\n",
              "      display:flex;\n",
              "      flex-wrap:wrap;\n",
              "      gap: 12px;\n",
              "    }\n",
              "\n",
              "    .colab-df-convert {\n",
              "      background-color: #E8F0FE;\n",
              "      border: none;\n",
              "      border-radius: 50%;\n",
              "      cursor: pointer;\n",
              "      display: none;\n",
              "      fill: #1967D2;\n",
              "      height: 32px;\n",
              "      padding: 0 0 0 0;\n",
              "      width: 32px;\n",
              "    }\n",
              "\n",
              "    .colab-df-convert:hover {\n",
              "      background-color: #E2EBFA;\n",
              "      box-shadow: 0px 1px 2px rgba(60, 64, 67, 0.3), 0px 1px 3px 1px rgba(60, 64, 67, 0.15);\n",
              "      fill: #174EA6;\n",
              "    }\n",
              "\n",
              "    [theme=dark] .colab-df-convert {\n",
              "      background-color: #3B4455;\n",
              "      fill: #D2E3FC;\n",
              "    }\n",
              "\n",
              "    [theme=dark] .colab-df-convert:hover {\n",
              "      background-color: #434B5C;\n",
              "      box-shadow: 0px 1px 3px 1px rgba(0, 0, 0, 0.15);\n",
              "      filter: drop-shadow(0px 1px 2px rgba(0, 0, 0, 0.3));\n",
              "      fill: #FFFFFF;\n",
              "    }\n",
              "  </style>\n",
              "\n",
              "      <script>\n",
              "        const buttonEl =\n",
              "          document.querySelector('#df-0754c848-40fb-4205-8dd7-99ec9137ccea button.colab-df-convert');\n",
              "        buttonEl.style.display =\n",
              "          google.colab.kernel.accessAllowed ? 'block' : 'none';\n",
              "\n",
              "        async function convertToInteractive(key) {\n",
              "          const element = document.querySelector('#df-0754c848-40fb-4205-8dd7-99ec9137ccea');\n",
              "          const dataTable =\n",
              "            await google.colab.kernel.invokeFunction('convertToInteractive',\n",
              "                                                     [key], {});\n",
              "          if (!dataTable) return;\n",
              "\n",
              "          const docLinkHtml = 'Like what you see? Visit the ' +\n",
              "            '<a target=\"_blank\" href=https://colab.research.google.com/notebooks/data_table.ipynb>data table notebook</a>'\n",
              "            + ' to learn more about interactive tables.';\n",
              "          element.innerHTML = '';\n",
              "          dataTable['output_type'] = 'display_data';\n",
              "          await google.colab.output.renderOutput(dataTable, element);\n",
              "          const docLink = document.createElement('div');\n",
              "          docLink.innerHTML = docLinkHtml;\n",
              "          element.appendChild(docLink);\n",
              "        }\n",
              "      </script>\n",
              "    </div>\n",
              "  </div>\n",
              "  "
            ]
          },
          "metadata": {},
          "execution_count": 94
        }
      ]
    },
    {
      "cell_type": "code",
      "source": [
        "# map features and its coef\n",
        "var = x.columns.tolist()\n",
        "coef = model.coef_.tolist()\n",
        "plt.figure(figsize=(10,5))\n",
        "plt.bar(var, coef)\n",
        "plt.ylabel('Effect')\n",
        "plt.xticks(rotation=90)\n",
        "plt.show()"
      ],
      "metadata": {
        "colab": {
          "base_uri": "https://localhost:8080/",
          "height": 409
        },
        "id": "_ZFJ-mCgIFc-",
        "outputId": "a582404a-88c2-4197-c01a-7ffc4ff9e466"
      },
      "execution_count": 95,
      "outputs": [
        {
          "output_type": "display_data",
          "data": {
            "text/plain": [
              "<Figure size 720x360 with 1 Axes>"
            ],
            "image/png": "[encoded data removed]"
          },
          "metadata": {
            "needs_background": "light"
          }
        }
      ]
    },
    {
      "cell_type": "code",
      "source": [
        "# Without Standardization\n",
        "model = LinearRegression()\n",
        "model.fit(x_std, y)\n",
        "cdf = pd.DataFrame(model.coef_, x.columns, columns=['Coefficients'])\n",
        "print(cdf)"
      ],
      "metadata": {
        "colab": {
          "base_uri": "https://localhost:8080/"
        },
        "id": "WEsquGkoR2DE",
        "outputId": "e8116ca3-9606-4fc0-eccd-e6740bfdb8a9"
      },
      "execution_count": 96,
      "outputs": [
        {
          "output_type": "stream",
          "name": "stdout",
          "text": [
            "                    Coefficients\n",
            "Video Quality         296.747949\n",
            "Sound quality          39.149566\n",
            "Appearance             98.890016\n",
            "Number of Features    251.531651\n",
            "Ease of Set up        141.380231\n",
            "Life Span              78.672885\n",
            "size=26\"              283.357519\n",
            "size=32\"              558.125069\n",
            "size=36\"             1702.522894\n",
            "size=40\"              255.068825\n",
            "size=42\"             2260.052856\n",
            "size=46\"             3543.431641\n",
            "size=49\"             -201.550352\n",
            "size=52\"             -370.715148\n",
            "size=55\"             -626.858822\n",
            "size=60\"            -1525.922326\n",
            "motionrate=120         32.501401\n",
            "motionrate=240         65.060099\n",
            "motionrate=600         97.059813\n",
            "Pixel=1080            159.156185\n",
            "price_2              -542.343276\n"
          ]
        }
      ]
    },
    {
      "cell_type": "markdown",
      "source": [
        "### Model 2: Revenue"
      ],
      "metadata": {
        "id": "4aSlHg1iLTe4"
      }
    },
    {
      "cell_type": "code",
      "source": [
        "df['rev'] = df['price_2'] * df['Yearly units sold in US']  "
      ],
      "metadata": {
        "id": "ZH0YHqrwThUZ"
      },
      "execution_count": 97,
      "outputs": []
    },
    {
      "cell_type": "code",
      "source": [
        "y = df['rev']"
      ],
      "metadata": {
        "id": "UA7Z6bePLTe5"
      },
      "execution_count": 98,
      "outputs": []
    },
    {
      "cell_type": "code",
      "source": [
        "scaler = StandardScaler()\n",
        "x_std = scaler.fit_transform(x)"
      ],
      "metadata": {
        "id": "XgsgQnjfTUXc"
      },
      "execution_count": 99,
      "outputs": []
    },
    {
      "cell_type": "code",
      "source": [
        "model = LinearRegression()\n",
        "model.fit(x_std, y)\n",
        "cdf = pd.DataFrame(model.coef_, x.columns, columns=['Coefficients'])\n",
        "print(cdf)"
      ],
      "metadata": {
        "colab": {
          "base_uri": "https://localhost:8080/"
        },
        "outputId": "bdd896c2-f0d9-40e7-e742-ae002ada6dee",
        "id": "qaMlggI3LTe5"
      },
      "execution_count": 100,
      "outputs": [
        {
          "output_type": "stream",
          "name": "stdout",
          "text": [
            "                    Coefficients\n",
            "Video Quality       2.814246e+05\n",
            "Sound quality       2.050731e+04\n",
            "Appearance          9.417819e+04\n",
            "Number of Features  2.006119e+05\n",
            "Ease of Set up      1.246478e+05\n",
            "Life Span           4.019499e+04\n",
            "size=26\"            1.640258e+05\n",
            "size=32\"            3.533273e+05\n",
            "size=36\"            1.203053e+06\n",
            "size=40\"            1.433029e+05\n",
            "size=42\"            1.830546e+06\n",
            "size=46\"            3.120423e+06\n",
            "size=49\"           -3.578647e+05\n",
            "size=52\"           -5.926613e+05\n",
            "size=55\"           -9.398207e+05\n",
            "size=60\"           -2.079734e+06\n",
            "motionrate=120      3.093359e+04\n",
            "motionrate=240      6.070271e+04\n",
            "motionrate=600      9.079473e+04\n",
            "Pixel=1080          1.427979e+05\n",
            "price_2             3.213319e+06\n"
          ]
        }
      ]
    },
    {
      "cell_type": "code",
      "source": [
        "cdf.iloc[:6,].sort_values(by='Coefficients', ascending=False)"
      ],
      "metadata": {
        "colab": {
          "base_uri": "https://localhost:8080/",
          "height": 238
        },
        "id": "bVMVTxV8ZxYI",
        "outputId": "a7ee18cb-782d-4a2b-a252-8e59a542b71e"
      },
      "execution_count": 101,
      "outputs": [
        {
          "output_type": "execute_result",
          "data": {
            "text/plain": [
              "                     Coefficients\n",
              "Video Quality       281424.649118\n",
              "Number of Features  200611.918066\n",
              "Ease of Set up      124647.751782\n",
              "Appearance           94178.187765\n",
              "Life Span            40194.987246\n",
              "Sound quality        20507.314436"
            ],
            "text/html": [
              "\n",
              "  <div id=\"df-c1703b75-a86b-4cf2-8c58-588c5e4defb9\">\n",
              "    <div class=\"colab-df-container\">\n",
              "      <div>\n",
              "<style scoped>\n",
              "    .dataframe tbody tr th:only-of-type {\n",
              "        vertical-align: middle;\n",
              "    }\n",
              "\n",
              "    .dataframe tbody tr th {\n",
              "        vertical-align: top;\n",
              "    }\n",
              "\n",
              "    .dataframe thead th {\n",
              "        text-align: right;\n",
              "    }\n",
              "</style>\n",
              "<table border=\"1\" class=\"dataframe\">\n",
              "  <thead>\n",
              "    <tr style=\"text-align: right;\">\n",
              "      <th></th>\n",
              "      <th>Coefficients</th>\n",
              "    </tr>\n",
              "  </thead>\n",
              "  <tbody>\n",
              "    <tr>\n",
              "      <th>Video Quality</th>\n",
              "      <td>281424.649118</td>\n",
              "    </tr>\n",
              "    <tr>\n",
              "      <th>Number of Features</th>\n",
              "      <td>200611.918066</td>\n",
              "    </tr>\n",
              "    <tr>\n",
              "      <th>Ease of Set up</th>\n",
              "      <td>124647.751782</td>\n",
              "    </tr>\n",
              "    <tr>\n",
              "      <th>Appearance</th>\n",
              "      <td>94178.187765</td>\n",
              "    </tr>\n",
              "    <tr>\n",
              "      <th>Life Span</th>\n",
              "      <td>40194.987246</td>\n",
              "    </tr>\n",
              "    <tr>\n",
              "      <th>Sound quality</th>\n",
              "      <td>20507.314436</td>\n",
              "    </tr>\n",
              "  </tbody>\n",
              "</table>\n",
              "</div>\n",
              "      <button class=\"colab-df-convert\" onclick=\"convertToInteractive('df-c1703b75-a86b-4cf2-8c58-588c5e4defb9')\"\n",
              "              title=\"Convert this dataframe to an interactive table.\"\n",
              "              style=\"display:none;\">\n",
              "        \n",
              "  <svg xmlns=\"http://www.w3.org/2000/svg\" height=\"24px\"viewBox=\"0 0 24 24\"\n",
              "       width=\"24px\">\n",
              "    <path d=\"M0 0h24v24H0V0z\" fill=\"none\"/>\n",
              "    <path d=\"M18.56 5.44l.94 2.06.94-2.06 2.06-.94-2.06-.94-.94-2.06-.94 2.06-2.06.94zm-11 1L8.5 8.5l.94-2.06 2.06-.94-2.06-.94L8.5 2.5l-.94 2.06-2.06.94zm10 10l.94 2.06.94-2.06 2.06-.94-2.06-.94-.94-2.06-.94 2.06-2.06.94z\"/><path d=\"M17.41 7.96l-1.37-1.37c-.4-.4-.92-.59-1.43-.59-.52 0-1.04.2-1.43.59L10.3 9.45l-7.72 7.72c-.78.78-.78 2.05 0 2.83L4 21.41c.39.39.9.59 1.41.59.51 0 1.02-.2 1.41-.59l7.78-7.78 2.81-2.81c.8-.78.8-2.07 0-2.86zM5.41 20L4 18.59l7.72-7.72 1.47 1.35L5.41 20z\"/>\n",
              "  </svg>\n",
              "      </button>\n",
              "      \n",
              "  <style>\n",
              "    .colab-df-container {\n",
              "      display:flex;\n",
              "      flex-wrap:wrap;\n",
              "      gap: 12px;\n",
              "    }\n",
              "\n",
              "    .colab-df-convert {\n",
              "      background-color: #E8F0FE;\n",
              "      border: none;\n",
              "      border-radius: 50%;\n",
              "      cursor: pointer;\n",
              "      display: none;\n",
              "      fill: #1967D2;\n",
              "      height: 32px;\n",
              "      padding: 0 0 0 0;\n",
              "      width: 32px;\n",
              "    }\n",
              "\n",
              "    .colab-df-convert:hover {\n",
              "      background-color: #E2EBFA;\n",
              "      box-shadow: 0px 1px 2px rgba(60, 64, 67, 0.3), 0px 1px 3px 1px rgba(60, 64, 67, 0.15);\n",
              "      fill: #174EA6;\n",
              "    }\n",
              "\n",
              "    [theme=dark] .colab-df-convert {\n",
              "      background-color: #3B4455;\n",
              "      fill: #D2E3FC;\n",
              "    }\n",
              "\n",
              "    [theme=dark] .colab-df-convert:hover {\n",
              "      background-color: #434B5C;\n",
              "      box-shadow: 0px 1px 3px 1px rgba(0, 0, 0, 0.15);\n",
              "      filter: drop-shadow(0px 1px 2px rgba(0, 0, 0, 0.3));\n",
              "      fill: #FFFFFF;\n",
              "    }\n",
              "  </style>\n",
              "\n",
              "      <script>\n",
              "        const buttonEl =\n",
              "          document.querySelector('#df-c1703b75-a86b-4cf2-8c58-588c5e4defb9 button.colab-df-convert');\n",
              "        buttonEl.style.display =\n",
              "          google.colab.kernel.accessAllowed ? 'block' : 'none';\n",
              "\n",
              "        async function convertToInteractive(key) {\n",
              "          const element = document.querySelector('#df-c1703b75-a86b-4cf2-8c58-588c5e4defb9');\n",
              "          const dataTable =\n",
              "            await google.colab.kernel.invokeFunction('convertToInteractive',\n",
              "                                                     [key], {});\n",
              "          if (!dataTable) return;\n",
              "\n",
              "          const docLinkHtml = 'Like what you see? Visit the ' +\n",
              "            '<a target=\"_blank\" href=https://colab.research.google.com/notebooks/data_table.ipynb>data table notebook</a>'\n",
              "            + ' to learn more about interactive tables.';\n",
              "          element.innerHTML = '';\n",
              "          dataTable['output_type'] = 'display_data';\n",
              "          await google.colab.output.renderOutput(dataTable, element);\n",
              "          const docLink = document.createElement('div');\n",
              "          docLink.innerHTML = docLinkHtml;\n",
              "          element.appendChild(docLink);\n",
              "        }\n",
              "      </script>\n",
              "    </div>\n",
              "  </div>\n",
              "  "
            ]
          },
          "metadata": {},
          "execution_count": 101
        }
      ]
    },
    {
      "cell_type": "code",
      "source": [
        "# map features and its coef\n",
        "var = x.columns.tolist()\n",
        "coef = model.coef_.tolist()\n",
        "plt.figure(figsize=(10,5))\n",
        "plt.bar(var, coef)\n",
        "plt.ylabel('Effect')\n",
        "plt.xticks(rotation=90)\n",
        "plt.show()"
      ],
      "metadata": {
        "colab": {
          "base_uri": "https://localhost:8080/",
          "height": 420
        },
        "id": "BqsRjaj4Udtj",
        "outputId": "42c1954a-9ff7-42c5-b372-d5f18aa68588"
      },
      "execution_count": 103,
      "outputs": [
        {
          "output_type": "display_data",
          "data": {
            "text/plain": [
              "<Figure size 720x360 with 1 Axes>"
            ],
            "image/png": "[encoded data removed]"
          },
          "metadata": {
            "needs_background": "light"
          }
        }
      ]
    },
    {
      "cell_type": "code",
      "source": [
        "# without standardization\n",
        "model = LinearRegression()\n",
        "model.fit(x, y)\n",
        "cdf = pd.DataFrame(model.coef_, x.columns, columns=['Coefficients'])\n",
        "print(cdf)"
      ],
      "metadata": {
        "colab": {
          "base_uri": "https://localhost:8080/"
        },
        "id": "84k49PKbUL8c",
        "outputId": "3d2d6c12-2066-4598-9f84-f6cca2dc5fa1"
      },
      "execution_count": 104,
      "outputs": [
        {
          "output_type": "stream",
          "name": "stdout",
          "text": [
            "                    Coefficients\n",
            "Video Quality       5.752458e+05\n",
            "Sound quality       3.939912e+04\n",
            "Appearance          2.142883e+05\n",
            "Number of Features  3.375898e+05\n",
            "Ease of Set up      2.779753e+05\n",
            "Life Span           7.229184e+04\n",
            "size=26\"            5.705647e+05\n",
            "size=32\"            1.229051e+06\n",
            "size=36\"            4.184825e+06\n",
            "size=40\"            4.984798e+05\n",
            "size=42\"            6.367566e+06\n",
            "size=46\"            1.085441e+07\n",
            "size=49\"           -1.244834e+06\n",
            "size=52\"           -2.061576e+06\n",
            "size=55\"           -3.269172e+06\n",
            "size=60\"           -7.234365e+06\n",
            "motionrate=120      7.143807e+04\n",
            "motionrate=240      1.401869e+05\n",
            "motionrate=600      2.096814e+05\n",
            "Pixel=1080          2.855959e+05\n",
            "price_2             1.486664e+04\n"
          ]
        }
      ]
    },
    {
      "cell_type": "code",
      "source": [
        "# map features and its coef\n",
        "var = x.columns.tolist()\n",
        "coef = model.coef_.tolist()\n",
        "plt.figure(figsize=(10,5))\n",
        "plt.bar(var, coef)\n",
        "plt.ylabel('Effect')\n",
        "plt.xticks(rotation=90)\n",
        "plt.show()"
      ],
      "metadata": {
        "colab": {
          "base_uri": "https://localhost:8080/",
          "height": 420
        },
        "id": "8XTY3PozbG-s",
        "outputId": "5ab1a64d-0b3c-4922-9da1-fd4f5ccab1c1"
      },
      "execution_count": 105,
      "outputs": [
        {
          "output_type": "display_data",
          "data": {
            "text/plain": [
              "<Figure size 720x360 with 1 Axes>"
            ],
            "image/png": "[encoded data removed]"
          },
          "metadata": {
            "needs_background": "light"
          }
        }
      ]
    },
    {
      "cell_type": "code",
      "source": [
        "# map features and its coef\n",
        "var = x.columns.tolist()\n",
        "coef = model.coef_.tolist()\n",
        "plt.figure(figsize=(10,5))\n",
        "plt.bar(var, coef)\n",
        "plt.ylabel('Effect')\n",
        "plt.xticks(rotation=90)\n",
        "plt.show()"
      ],
      "metadata": {
        "colab": {
          "base_uri": "https://localhost:8080/",
          "height": 420
        },
        "id": "ibfst4XnUUBI",
        "outputId": "0d257d7d-ab8a-444c-df28-c27f3315c7ac"
      },
      "execution_count": 59,
      "outputs": [
        {
          "output_type": "display_data",
          "data": {
            "text/plain": [
              "<Figure size 720x360 with 1 Axes>"
            ],
            "image/png": "[encoded data removed]"
          },
          "metadata": {
            "needs_background": "light"
          }
        }
      ]
    },
    {
      "cell_type": "markdown",
      "source": [
        "# Other Notes"
      ],
      "metadata": {
        "id": "5-QOMOKxVKSx"
      }
    },
    {
      "cell_type": "markdown",
      "source": [
        "### Get p-value to see if the variable is significant"
      ],
      "metadata": {
        "id": "0PBKiF5kVPRJ"
      }
    },
    {
      "cell_type": "code",
      "source": [
        "import statsmodels.api as sm\n",
        "from scipy import stats"
      ],
      "metadata": {
        "id": "wThBkbk1kFzd"
      },
      "execution_count": 60,
      "outputs": []
    },
    {
      "cell_type": "code",
      "source": [
        "X2 = sm.add_constant(x)\n",
        "model = sm.OLS(y, X2)\n",
        "model2 = model.fit()\n",
        "\n",
        "p_values = model2.summary2().tables[1]['P>|t|']\n",
        "print(p_values)"
      ],
      "metadata": {
        "colab": {
          "base_uri": "https://localhost:8080/"
        },
        "id": "H3T5Fhtq340R",
        "outputId": "fb5dca7d-4f86-4ea8-ff49-6d46b6b268ef"
      },
      "execution_count": 62,
      "outputs": [
        {
          "output_type": "stream",
          "name": "stdout",
          "text": [
            "const                  1.105645e-84\n",
            "Video Quality          6.436572e-21\n",
            "Sound quality          1.789549e-21\n",
            "Appearance             6.139438e-14\n",
            "Number of Features     6.838482e-05\n",
            "Ease of Set up         1.417291e-13\n",
            "Life Span              3.100013e-16\n",
            "size=26\"               1.796959e-19\n",
            "size=32\"               8.303035e-71\n",
            "size=36\"              4.339855e-215\n",
            "size=40\"              8.622221e-112\n",
            "size=42\"               0.000000e+00\n",
            "size=46\"               0.000000e+00\n",
            "size=49\"              5.877016e-150\n",
            "size=52\"              4.154096e-157\n",
            "size=55\"              3.715936e-140\n",
            "size=60\"               3.692754e-28\n",
            "motionrate=120         1.175163e-19\n",
            "motionrate=240         6.505358e-67\n",
            "motionrate=600        1.762906e-114\n",
            "Pixel=1080             9.205712e-84\n",
            "Name: P>|t|, dtype: float64\n"
          ]
        },
        {
          "output_type": "stream",
          "name": "stderr",
          "text": [
            "/usr/local/lib/python3.8/dist-packages/statsmodels/tsa/tsatools.py:142: FutureWarning: In a future version of pandas all arguments of concat except for the argument 'objs' will be keyword-only\n",
            "  x = pd.concat(x[::order], 1)\n"
          ]
        }
      ]
    },
    {
      "cell_type": "markdown",
      "source": [
        "### Correlation Heatmap"
      ],
      "metadata": {
        "id": "ee79PQs5CqJc"
      }
    },
    {
      "cell_type": "code",
      "source": [
        "df2 = df[['Screen Size', 'Motion Rate', 'Pixel', 'Overall Rating',\n",
        "       'Video Quality', 'Sound quality', 'Appearance', 'Number of Features',\n",
        "       'Ease of Set up', 'Life Span', 'rev']]\n",
        "a = pd.DataFrame(df2.corr()['rev'])\n",
        "sns.heatmap(a, cmap=\"YlGnBu\", annot=True)"
      ],
      "metadata": {
        "colab": {
          "base_uri": "https://localhost:8080/",
          "height": 287
        },
        "id": "T_T2v6lR_X35",
        "outputId": "a0926f66-32c5-4065-ef4e-0aaad40f8a1a"
      },
      "execution_count": null,
      "outputs": [
        {
          "output_type": "execute_result",
          "data": {
            "text/plain": [
              "<matplotlib.axes._subplots.AxesSubplot at 0x7f63791306a0>"
            ]
          },
          "metadata": {},
          "execution_count": 167
        },
        {
          "output_type": "display_data",
          "data": {
            "text/plain": [
              "<Figure size 432x288 with 2 Axes>"
            ],
            "image/png": "[encoded data removed]"
          },
          "metadata": {
            "needs_background": "light"
          }
        }
      ]
    },
    {
      "cell_type": "code",
      "source": [
        "df2 = df[['Screen Size', 'Motion Rate', 'Pixel', 'Overall Rating',\n",
        "       'Video Quality', 'Sound quality', 'Appearance', 'Number of Features',\n",
        "       'Ease of Set up', 'Life Span', 'Yearly units sold in US']]\n",
        "a = pd.DataFrame(df2.corr()['Yearly units sold in US'])\n",
        "sns.heatmap(a, cmap=\"YlGnBu\", annot=True)"
      ],
      "metadata": {
        "colab": {
          "base_uri": "https://localhost:8080/",
          "height": 287
        },
        "id": "NUDCTDZ_CBNW",
        "outputId": "43e72120-e70e-4d74-ed27-d08f12c9e701"
      },
      "execution_count": null,
      "outputs": [
        {
          "output_type": "execute_result",
          "data": {
            "text/plain": [
              "<matplotlib.axes._subplots.AxesSubplot at 0x7f63790d6df0>"
            ]
          },
          "metadata": {},
          "execution_count": 168
        },
        {
          "output_type": "display_data",
          "data": {
            "text/plain": [
              "<Figure size 432x288 with 2 Axes>"
            ],
            "image/png": "[encoded data removed]"
          },
          "metadata": {
            "needs_background": "light"
          }
        }
      ]
    },
    {
      "cell_type": "code",
      "source": [
        "df2 = df[['Screen Size', 'Motion Rate', 'Pixel', 'Overall Rating',\n",
        "       'Video Quality', 'Sound quality', 'Appearance', 'Number of Features',\n",
        "       'Ease of Set up', 'Life Span', 'Selling Price_2']]\n",
        "a = pd.DataFrame(df2.corr()['Selling Price_2'])\n",
        "sns.heatmap(a, cmap=\"YlGnBu\", annot=True)"
      ],
      "metadata": {
        "colab": {
          "base_uri": "https://localhost:8080/",
          "height": 288
        },
        "id": "EoItjWP8Cz2_",
        "outputId": "b942ed16-0bf1-4f48-c6f4-63c4241f1857"
      },
      "execution_count": null,
      "outputs": [
        {
          "output_type": "execute_result",
          "data": {
            "text/plain": [
              "<matplotlib.axes._subplots.AxesSubplot at 0x7f6378fc27f0>"
            ]
          },
          "metadata": {},
          "execution_count": 169
        },
        {
          "output_type": "display_data",
          "data": {
            "text/plain": [
              "<Figure size 432x288 with 2 Axes>"
            ],
            "image/png": "[encoded data removed]"
          },
          "metadata": {
            "needs_background": "light"
          }
        }
      ]
    }
  ]
}